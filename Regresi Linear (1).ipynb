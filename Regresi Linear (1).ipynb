{
 "cells": [
  {
   "cell_type": "markdown",
   "id": "d7c7b95d",
   "metadata": {},
   "source": [
    "## Import Library "
   ]
  },
  {
   "cell_type": "code",
   "execution_count": 13,
   "id": "093f21ce",
   "metadata": {},
   "outputs": [],
   "source": [
    "import pandas as pd\n",
    "import matplotlib.pyplot as plt\n",
    "from sklearn.preprocessing import MinMaxScaler\n",
    "from sklearn.model_selection import train_test_split\n",
    "from sklearn.linear_model import LinearRegression\n",
    "from sklearn.metrics import mean_absolute_error, mean_absolute_percentage_error, mean_squared_error, r2_score"
   ]
  },
  {
   "cell_type": "markdown",
   "id": "964af4c6",
   "metadata": {},
   "source": [
    "## Import Dataset "
   ]
  },
  {
   "cell_type": "markdown",
   "id": "b36b36fa",
   "metadata": {},
   "source": [
    "Dataset berisi data tentang produksi (Production) dan luas panen (Harvest Area) dari sektor pertanian dalam beberapa periode waktu tertentu. Berikut adalah penjelasan untuk setiap kolom:\n",
    "\n",
    "- **Production (X):**\n",
    "\n",
    "Ini adalah kolom yang mewakili jumlah atau volume produksi suatu tanaman atau komoditas pada periode waktu tertentu. Satuan pengukuran dari kolom ini tidak diberikan dalam konteks dataset yang disediakan, namun mungkin bisa dalam satuan seperti ton, kilogram, atau unit lainnya tergantung pada sumber data.\n",
    "\n",
    "- **Harvest Area (Y):**\n",
    "\n",
    "Ini adalah kolom yang mewakili luas lahan yang dipanen pada periode waktu yang sesuai dengan produksi. Luas panen ini bisa diukur dalam satuan hektar, meter persegi, atau unit lainnya tergantung pada sumber data.\n",
    "\n",
    "Dataset ini digunakan untuk menganalisis hubungan antara luas panen dan produksi suatu tanaman atau komoditas. Secara khusus, kolom *Production* (X) dapat dianggap sebagai variabel independen (variabel penjelas) dan kolom *Harvest Area* (Y) sebagai variabel dependen (variabel yang ingin diprediksi). "
   ]
  },
  {
   "cell_type": "code",
   "execution_count": 18,
   "id": "bc3b771d",
   "metadata": {},
   "outputs": [
    {
     "data": {
      "text/html": [
       "<div>\n",
       "<style scoped>\n",
       "    .dataframe tbody tr th:only-of-type {\n",
       "        vertical-align: middle;\n",
       "    }\n",
       "\n",
       "    .dataframe tbody tr th {\n",
       "        vertical-align: top;\n",
       "    }\n",
       "\n",
       "    .dataframe thead th {\n",
       "        text-align: right;\n",
       "    }\n",
       "</style>\n",
       "<table border=\"1\" class=\"dataframe\">\n",
       "  <thead>\n",
       "    <tr style=\"text-align: right;\">\n",
       "      <th></th>\n",
       "      <th>Production (X)</th>\n",
       "      <th>Harvest Area (Y)</th>\n",
       "    </tr>\n",
       "  </thead>\n",
       "  <tbody>\n",
       "    <tr>\n",
       "      <th>0</th>\n",
       "      <td>1329536.0</td>\n",
       "      <td>323589.0</td>\n",
       "    </tr>\n",
       "    <tr>\n",
       "      <th>1</th>\n",
       "      <td>1299699.0</td>\n",
       "      <td>329041.0</td>\n",
       "    </tr>\n",
       "    <tr>\n",
       "      <th>2</th>\n",
       "      <td>1382905.0</td>\n",
       "      <td>339253.0</td>\n",
       "    </tr>\n",
       "    <tr>\n",
       "      <th>3</th>\n",
       "      <td>1419128.0</td>\n",
       "      <td>348223.0</td>\n",
       "    </tr>\n",
       "    <tr>\n",
       "      <th>4</th>\n",
       "      <td>1368074.0</td>\n",
       "      <td>337561.0</td>\n",
       "    </tr>\n",
       "  </tbody>\n",
       "</table>\n",
       "</div>"
      ],
      "text/plain": [
       "   Production (X)  Harvest Area (Y)\n",
       "0       1329536.0          323589.0\n",
       "1       1299699.0          329041.0\n",
       "2       1382905.0          339253.0\n",
       "3       1419128.0          348223.0\n",
       "4       1368074.0          337561.0"
      ]
     },
     "execution_count": 18,
     "metadata": {},
     "output_type": "execute_result"
    }
   ],
   "source": [
    "df = pd.read_csv('R02_rice_field.csv')\n",
    "# head() digunakan untuk menampilkan barisan awal dataset\n",
    "df.head()"
   ]
  },
  {
   "cell_type": "markdown",
   "id": "2b040e16",
   "metadata": {},
   "source": [
    "## Data Preprocessing"
   ]
  },
  {
   "cell_type": "markdown",
   "id": "bcae4ee9",
   "metadata": {},
   "source": [
    "describe() digunakan untuk memberi gambaran statistik deskriptif tentang distribusi data dalam DataFrame. "
   ]
  },
  {
   "cell_type": "code",
   "execution_count": 5,
   "id": "0b7f6db3",
   "metadata": {},
   "outputs": [
    {
     "data": {
      "text/html": [
       "<div>\n",
       "<style scoped>\n",
       "    .dataframe tbody tr th:only-of-type {\n",
       "        vertical-align: middle;\n",
       "    }\n",
       "\n",
       "    .dataframe tbody tr th {\n",
       "        vertical-align: top;\n",
       "    }\n",
       "\n",
       "    .dataframe thead th {\n",
       "        text-align: right;\n",
       "    }\n",
       "</style>\n",
       "<table border=\"1\" class=\"dataframe\">\n",
       "  <thead>\n",
       "    <tr style=\"text-align: right;\">\n",
       "      <th></th>\n",
       "      <th>Production (X)</th>\n",
       "      <th>Harvest Area (Y)</th>\n",
       "    </tr>\n",
       "  </thead>\n",
       "  <tbody>\n",
       "    <tr>\n",
       "      <th>count</th>\n",
       "      <td>2.240000e+02</td>\n",
       "      <td>224.000000</td>\n",
       "    </tr>\n",
       "    <tr>\n",
       "      <th>mean</th>\n",
       "      <td>1.679701e+06</td>\n",
       "      <td>374349.966920</td>\n",
       "    </tr>\n",
       "    <tr>\n",
       "      <th>std</th>\n",
       "      <td>1.161387e+06</td>\n",
       "      <td>232751.161987</td>\n",
       "    </tr>\n",
       "    <tr>\n",
       "      <th>min</th>\n",
       "      <td>4.293800e+04</td>\n",
       "      <td>63142.040000</td>\n",
       "    </tr>\n",
       "    <tr>\n",
       "      <th>25%</th>\n",
       "      <td>5.488570e+05</td>\n",
       "      <td>146919.500000</td>\n",
       "    </tr>\n",
       "    <tr>\n",
       "      <th>50%</th>\n",
       "      <td>1.667773e+06</td>\n",
       "      <td>373551.500000</td>\n",
       "    </tr>\n",
       "    <tr>\n",
       "      <th>75%</th>\n",
       "      <td>2.436851e+06</td>\n",
       "      <td>514570.250000</td>\n",
       "    </tr>\n",
       "    <tr>\n",
       "      <th>max</th>\n",
       "      <td>4.881089e+06</td>\n",
       "      <td>872737.000000</td>\n",
       "    </tr>\n",
       "  </tbody>\n",
       "</table>\n",
       "</div>"
      ],
      "text/plain": [
       "       Production (X)  Harvest Area (Y)\n",
       "count    2.240000e+02        224.000000\n",
       "mean     1.679701e+06     374349.966920\n",
       "std      1.161387e+06     232751.161987\n",
       "min      4.293800e+04      63142.040000\n",
       "25%      5.488570e+05     146919.500000\n",
       "50%      1.667773e+06     373551.500000\n",
       "75%      2.436851e+06     514570.250000\n",
       "max      4.881089e+06     872737.000000"
      ]
     },
     "execution_count": 5,
     "metadata": {},
     "output_type": "execute_result"
    }
   ],
   "source": [
    "df.describe()"
   ]
  },
  {
   "cell_type": "markdown",
   "id": "807d3a6c",
   "metadata": {},
   "source": [
    "isna().sum() digunakan untuk mengecek apakah terdapat *null value* pada dataset, karena jika ada, kemungkinan akan menjadi outlier atau data noise."
   ]
  },
  {
   "cell_type": "code",
   "execution_count": 7,
   "id": "966a9947",
   "metadata": {},
   "outputs": [
    {
     "data": {
      "text/plain": [
       "Production (X)      0\n",
       "Harvest Area (Y)    0\n",
       "dtype: int64"
      ]
     },
     "execution_count": 7,
     "metadata": {},
     "output_type": "execute_result"
    }
   ],
   "source": [
    "df.isna().sum()"
   ]
  },
  {
   "cell_type": "markdown",
   "id": "6cda8c07",
   "metadata": {},
   "source": [
    "tidak ada *null value* dapat disimpulkan bahwa dataset sudah bersih."
   ]
  },
  {
   "cell_type": "markdown",
   "id": "fbfd8987",
   "metadata": {},
   "source": [
    "Melihat data numerik di dalam dataset sangat beragam dan berada dalam rentang yang besar dan bervariasi, maka dilakukan normalisasi data. Teknik normalisasi data yang dilakukan adalah **_Min-Max Scalling_** untuk mengubah ukuran data dari data aslinya menjadi nilai yang berada dalam rentang 0 dan 1."
   ]
  },
  {
   "cell_type": "code",
   "execution_count": 11,
   "id": "05003442",
   "metadata": {},
   "outputs": [
    {
     "data": {
      "text/html": [
       "<div>\n",
       "<style scoped>\n",
       "    .dataframe tbody tr th:only-of-type {\n",
       "        vertical-align: middle;\n",
       "    }\n",
       "\n",
       "    .dataframe tbody tr th {\n",
       "        vertical-align: top;\n",
       "    }\n",
       "\n",
       "    .dataframe thead th {\n",
       "        text-align: right;\n",
       "    }\n",
       "</style>\n",
       "<table border=\"1\" class=\"dataframe\">\n",
       "  <thead>\n",
       "    <tr style=\"text-align: right;\">\n",
       "      <th></th>\n",
       "      <th>Production (X)</th>\n",
       "      <th>Harvest Area (Y)</th>\n",
       "    </tr>\n",
       "  </thead>\n",
       "  <tbody>\n",
       "    <tr>\n",
       "      <th>0</th>\n",
       "      <td>0.265928</td>\n",
       "      <td>0.321700</td>\n",
       "    </tr>\n",
       "    <tr>\n",
       "      <th>1</th>\n",
       "      <td>0.259761</td>\n",
       "      <td>0.328435</td>\n",
       "    </tr>\n",
       "    <tr>\n",
       "      <th>2</th>\n",
       "      <td>0.276958</td>\n",
       "      <td>0.341048</td>\n",
       "    </tr>\n",
       "    <tr>\n",
       "      <th>3</th>\n",
       "      <td>0.284445</td>\n",
       "      <td>0.352128</td>\n",
       "    </tr>\n",
       "    <tr>\n",
       "      <th>4</th>\n",
       "      <td>0.273893</td>\n",
       "      <td>0.338958</td>\n",
       "    </tr>\n",
       "  </tbody>\n",
       "</table>\n",
       "</div>"
      ],
      "text/plain": [
       "   Production (X)  Harvest Area (Y)\n",
       "0        0.265928          0.321700\n",
       "1        0.259761          0.328435\n",
       "2        0.276958          0.341048\n",
       "3        0.284445          0.352128\n",
       "4        0.273893          0.338958"
      ]
     },
     "execution_count": 11,
     "metadata": {},
     "output_type": "execute_result"
    }
   ],
   "source": [
    "# Inisialisasi MinMaxScaler\n",
    "scaler = MinMaxScaler()\n",
    "\n",
    "# Memilih kolom yang akan dinormalisasi\n",
    "columns_to_normalize = ['Production (X)', 'Harvest Area (Y)']\n",
    "\n",
    "# Melakukan normalisasi pada kolom-kolom yang dipilih\n",
    "df[columns_to_normalize] = scaler.fit_transform(df[columns_to_normalize])\n",
    "\n",
    "# Tampilkan DataFrame setelah normalisasi\n",
    "df.head()"
   ]
  },
  {
   "cell_type": "markdown",
   "id": "0fb6b143",
   "metadata": {},
   "source": [
    "Dilakukan pengecekan kembali dengan describe() untuk melihat apakah normalisasi berhasil."
   ]
  },
  {
   "cell_type": "code",
   "execution_count": 12,
   "id": "a4f213f5",
   "metadata": {},
   "outputs": [
    {
     "data": {
      "text/html": [
       "<div>\n",
       "<style scoped>\n",
       "    .dataframe tbody tr th:only-of-type {\n",
       "        vertical-align: middle;\n",
       "    }\n",
       "\n",
       "    .dataframe tbody tr th {\n",
       "        vertical-align: top;\n",
       "    }\n",
       "\n",
       "    .dataframe thead th {\n",
       "        text-align: right;\n",
       "    }\n",
       "</style>\n",
       "<table border=\"1\" class=\"dataframe\">\n",
       "  <thead>\n",
       "    <tr style=\"text-align: right;\">\n",
       "      <th></th>\n",
       "      <th>Production (X)</th>\n",
       "      <th>Harvest Area (Y)</th>\n",
       "    </tr>\n",
       "  </thead>\n",
       "  <tbody>\n",
       "    <tr>\n",
       "      <th>count</th>\n",
       "      <td>224.000000</td>\n",
       "      <td>224.000000</td>\n",
       "    </tr>\n",
       "    <tr>\n",
       "      <th>mean</th>\n",
       "      <td>0.338303</td>\n",
       "      <td>0.384400</td>\n",
       "    </tr>\n",
       "    <tr>\n",
       "      <th>std</th>\n",
       "      <td>0.240048</td>\n",
       "      <td>0.287491</td>\n",
       "    </tr>\n",
       "    <tr>\n",
       "      <th>min</th>\n",
       "      <td>0.000000</td>\n",
       "      <td>0.000000</td>\n",
       "    </tr>\n",
       "    <tr>\n",
       "      <th>25%</th>\n",
       "      <td>0.104569</td>\n",
       "      <td>0.103481</td>\n",
       "    </tr>\n",
       "    <tr>\n",
       "      <th>50%</th>\n",
       "      <td>0.335838</td>\n",
       "      <td>0.383413</td>\n",
       "    </tr>\n",
       "    <tr>\n",
       "      <th>75%</th>\n",
       "      <td>0.494799</td>\n",
       "      <td>0.557598</td>\n",
       "    </tr>\n",
       "    <tr>\n",
       "      <th>max</th>\n",
       "      <td>1.000000</td>\n",
       "      <td>1.000000</td>\n",
       "    </tr>\n",
       "  </tbody>\n",
       "</table>\n",
       "</div>"
      ],
      "text/plain": [
       "       Production (X)  Harvest Area (Y)\n",
       "count      224.000000        224.000000\n",
       "mean         0.338303          0.384400\n",
       "std          0.240048          0.287491\n",
       "min          0.000000          0.000000\n",
       "25%          0.104569          0.103481\n",
       "50%          0.335838          0.383413\n",
       "75%          0.494799          0.557598\n",
       "max          1.000000          1.000000"
      ]
     },
     "execution_count": 12,
     "metadata": {},
     "output_type": "execute_result"
    }
   ],
   "source": [
    "df.describe()"
   ]
  },
  {
   "cell_type": "markdown",
   "id": "8e770bbc",
   "metadata": {},
   "source": [
    "dapat dilihat jika min = 0 dan max = 1, yang artinya preprocessing data sudah berhasil dilakukan."
   ]
  },
  {
   "cell_type": "markdown",
   "id": "e428be6e",
   "metadata": {},
   "source": [
    "## Model Regresi Linear"
   ]
  },
  {
   "cell_type": "code",
   "execution_count": 14,
   "id": "01b54da2",
   "metadata": {},
   "outputs": [
    {
     "name": "stdout",
     "output_type": "stream",
     "text": [
      "Coefficients: [1.06968652]\n",
      "Intercept: 0.019811812485091507\n",
      "Mean Squared Error (MSE): 0.009066286395377626\n",
      "R-squared (R2): 0.8546683225108226\n",
      "Mean Absolute Error (MAE): 0.0641849928502576\n",
      "Mean Absolute Percentage Error (MAPE): 1.1383049235768596\n",
      "Root Mean Squared Error (RMSE): 0.09521704886929455\n"
     ]
    }
   ],
   "source": [
    "# Pisahkan data menjadi fitur (X) dan label (y)\n",
    "X = df.drop('Harvest Area (Y)', axis=1)\n",
    "y = df['Harvest Area (Y)']\n",
    "\n",
    "# Bagi data menjadi data latih dan data uji\n",
    "X_train, X_test, y_train, y_test = train_test_split(X, y, test_size=0.2, random_state=42)\n",
    "\n",
    "# Inisialisasi model Regresi Linear\n",
    "model = LinearRegression()\n",
    "\n",
    "# Latih model\n",
    "model.fit(X_train, y_train)\n",
    "\n",
    "# Prediksi pada data uji\n",
    "y_pred = model.predict(X_test)\n",
    "\n",
    "# Evaluasi model\n",
    "mse = mean_squared_error(y_test, y_pred)\n",
    "r2 = r2_score(y_test, y_pred)\n",
    "mae = mean_absolute_error(y_test, y_pred)\n",
    "mape = mean_absolute_percentage_error(y_test, y_pred)\n",
    "rmse = np.sqrt(mse)\n",
    "\n",
    "# Print coefficients dan metrik evaluasi\n",
    "print(f'Coefficients: {model.coef_}')\n",
    "print(f'Intercept: {model.intercept_}')\n",
    "print(f'Mean Squared Error (MSE): {mse}')\n",
    "print(f'R-squared (R2): {r2}')\n",
    "print(f'Mean Absolute Error (MAE): {mae}')\n",
    "print(f'Mean Absolute Percentage Error (MAPE): {mape}')\n",
    "print(f'Root Mean Squared Error (RMSE): {rmse}')"
   ]
  },
  {
   "cell_type": "code",
   "execution_count": 20,
   "id": "4f541d3e",
   "metadata": {},
   "outputs": [
    {
     "name": "stdout",
     "output_type": "stream",
     "text": [
      "            X         Y  Predicted (Y)\n",
      "9    0.262751  0.311253       0.300873\n",
      "84   0.081304  0.102509       0.106781\n",
      "117  0.104862  0.142817       0.131981\n",
      "144  0.317158  0.502137       0.359072\n",
      "221  0.505504  0.554350       0.560542\n",
      "113  0.107848  0.149318       0.135175\n",
      "68   0.385365  0.449370       0.432031\n",
      "104  0.080859  0.068400       0.106305\n",
      "177  0.069630  0.057284       0.094294\n",
      "185  0.097957  0.087064       0.124595\n",
      "55   0.420273  0.401990       0.469372\n",
      "15   0.280965  0.328519       0.320356\n",
      "199  0.398665  0.558366       0.446259\n",
      "25   0.353246  0.329021       0.397675\n",
      "30   0.639003  0.904206       0.703345\n",
      "45   0.731553  0.854170       0.802344\n",
      "171  0.073177  0.072613       0.098088\n",
      "82   0.297646  0.306980       0.338200\n",
      "208  0.430166  0.535324       0.479954\n",
      "97   0.000000  0.090212       0.019812\n",
      "93   0.073108  0.081378       0.098014\n",
      "18   0.357580  0.392226       0.402310\n",
      "79   0.505356  0.196814       0.560385\n",
      "141  0.269664  0.443391       0.308267\n",
      "147  0.376322  0.608063       0.422359\n",
      "143  0.335594  0.534608       0.378792\n",
      "192  0.138706  0.023823       0.168183\n",
      "67   0.378709  0.443975       0.424911\n",
      "60   0.360630  0.410805       0.405573\n",
      "101  0.109944  0.114806       0.137417\n",
      "212  0.543783  0.626579       0.601490\n",
      "69   0.381665  0.438125       0.428073\n",
      "16   0.308058  0.365903       0.349337\n",
      "190  0.110727  0.081141       0.138255\n",
      "156  0.637082  0.844031       0.701290\n",
      "114  0.113796  0.161221       0.141538\n",
      "159  0.672221  0.872761       0.738878\n",
      "111  0.046796  0.001965       0.069869\n",
      "75   0.480649  0.510477       0.533955\n",
      "180  0.082333  0.066300       0.107882\n",
      "140  0.282468  0.465360       0.321964\n",
      "206  0.397539  0.505800       0.445054\n",
      "183  0.091349  0.079501       0.117527\n",
      "120  0.106162  0.125599       0.133371\n",
      "165  0.609996  0.640360       0.672317\n"
     ]
    }
   ],
   "source": [
    "# Buat DataFrame untuk data uji\n",
    "df_test = pd.DataFrame({'X': X_test['Production (X)'], 'Y': y_test, 'Predicted (Y)': y_pred})\n",
    "\n",
    "# Tampilkan DataFrame\n",
    "print(df_test)"
   ]
  },
  {
   "cell_type": "code",
   "execution_count": 16,
   "id": "0513fd2c",
   "metadata": {},
   "outputs": [
    {
     "data": {
      "image/png": "[encoded data removed]",
      "text/plain": [
       "<Figure size 640x480 with 1 Axes>"
      ]
     },
     "metadata": {},
     "output_type": "display_data"
    }
   ],
   "source": [
    "# Plot grafik regresi\n",
    "plt.scatter(X_test, y_test, color='black')\n",
    "plt.plot(X_test, y_pred, color='blue', linewidth=3)\n",
    "plt.xlabel('Production (X)')\n",
    "plt.ylabel('Harvest Area (Y)')\n",
    "plt.title('Visualisasi Regresi Linear')\n",
    "plt.show()"
   ]
  },
  {
   "cell_type": "code",
   "execution_count": null,
   "id": "cee5fd54",
   "metadata": {},
   "outputs": [],
   "source": []
  }
 ],
 "metadata": {
  "kernelspec": {
   "display_name": "Python 3 (ipykernel)",
   "language": "python",
   "name": "python3"
  },
  "language_info": {
   "codemirror_mode": {
    "name": "ipython",
    "version": 3
   },
   "file_extension": ".py",
   "mimetype": "text/x-python",
   "name": "python",
   "nbconvert_exporter": "python",
   "pygments_lexer": "ipython3",
   "version": "3.9.15"
  }
 },
 "nbformat": 4,
 "nbformat_minor": 5
}
